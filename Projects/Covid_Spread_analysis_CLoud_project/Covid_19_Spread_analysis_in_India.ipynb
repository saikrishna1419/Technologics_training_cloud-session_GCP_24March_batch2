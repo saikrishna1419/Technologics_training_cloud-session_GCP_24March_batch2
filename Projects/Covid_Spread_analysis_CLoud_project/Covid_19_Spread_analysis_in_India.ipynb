{
  "nbformat": 4,
  "nbformat_minor": 0,
  "metadata": {
    "kernelspec": {
      "display_name": "Python 3",
      "language": "python",
      "name": "python3"
    },
    "language_info": {
      "codemirror_mode": {
        "name": "ipython",
        "version": 3
      },
      "file_extension": ".py",
      "mimetype": "text/x-python",
      "name": "python",
      "nbconvert_exporter": "python",
      "pygments_lexer": "ipython3",
      "version": "3.7.7"
    },
    "colab": {
      "name": "Covid_19_Spread_analysis_in_India.ipynb",
      "provenance": [],
      "collapsed_sections": [],
      "toc_visible": true
    }
  },
  "cells": [
    {
      "cell_type": "markdown",
      "metadata": {
        "id": "dDjAy3-3SM4z"
      },
      "source": [
        "**This program made by # AMIT DHOMNE # Instructor/Software Developer /Practitioner/ Programmer**"
      ]
    },
    {
      "cell_type": "markdown",
      "metadata": {
        "id": "PnhteoS7SM5G"
      },
      "source": [
        "https://api.covid19india.org/  \n",
        "https://api.covid19india.org/csv/"
      ]
    },
    {
      "cell_type": "code",
      "metadata": {
        "id": "exfOoqBeeLvp"
      },
      "source": [
        "# This is Data Analytics project on Covid data"
      ],
      "execution_count": null,
      "outputs": []
    },
    {
      "cell_type": "markdown",
      "metadata": {
        "id": "IS5Hj9QLSM5e"
      },
      "source": [
        "## Import libraries"
      ]
    },
    {
      "cell_type": "code",
      "metadata": {
        "id": "Fc3E0T8pSM53"
      },
      "source": [
        "# to get web contents\n",
        "#include <math.h>\n",
        "#sqrt,pow\n",
        "# import java.util.*;\n",
        "import requests\n",
        "# to parse json contents\n",
        "import json\n",
        "# to parse csv files\n",
        "import csv\n",
        "\n",
        "# for numerical operations, convert row into vector [ 1, 2, 3 ,4 , 5]\n",
        "import numpy as np\n",
        "# to store and analysis data in dataframes\n",
        "import pandas as pd\n",
        "#12332525uy324i58725678234"
      ],
      "execution_count": 4,
      "outputs": []
    },
    {
      "cell_type": "markdown",
      "metadata": {
        "id": "DciWnT-ySM7W"
      },
      "source": [
        "## Raw data"
      ]
    },
    {
      "cell_type": "code",
      "metadata": {
        "id": "1t5wglU6SM7f"
      },
      "source": [
        "# read data\n",
        "raw_1 = pd.read_csv('https://api.covid19india.org/csv/latest/raw_data1.csv') # I am reading data directly from website without downloading data\n",
        "raw_2 = pd.read_csv('https://api.covid19india.org/csv/latest/raw_data2.csv')\n",
        "raw_3 = pd.read_csv('https://api.covid19india.org/csv/latest/raw_data3.csv')\n",
        "raw_4 = pd.read_csv('https://api.covid19india.org/csv/latest/raw_data4.csv')\n",
        "raw_5 = pd.read_csv('https://api.covid19india.org/csv/latest/raw_data5.csv')\n",
        "raw_6 = pd.read_csv('https://api.covid19india.org/csv/latest/raw_data6.csv')\n",
        "raw_7 = pd.read_csv('https://api.covid19india.org/csv/latest/raw_data7.csv')\n",
        "raw_8 = pd.read_csv('https://api.covid19india.org/csv/latest/raw_data8.csv')\n",
        "raw_9 = pd.read_csv('https://api.covid19india.org/csv/latest/raw_data9.csv')\n",
        "raw_10 = pd.read_csv('https://api.covid19india.org/csv/latest/raw_data10.csv')\n",
        "raw_11 = pd.read_csv('https://api.covid19india.org/csv/latest/raw_data11.csv')\n",
        "raw_12 = pd.read_csv('https://api.covid19india.org/csv/latest/raw_data12.csv')\n",
        "\n",
        "\n",
        "# concatenate dfs , # combining all files data in single file \n",
        "full_data = pd.concat([raw_1, raw_2, raw_3, raw_4, raw_5, \n",
        "                       raw_6, raw_7, raw_8, raw_9, raw_10, \n",
        "                       raw_11, raw_12])\n",
        "\n",
        "# save to csv` # after combining data i will save as patients.csv\n",
        "full_data.to_csv('patients_data.csv', index=False)\n",
        "\n",
        "# no. of rows and column\n"
      ],
      "execution_count": 5,
      "outputs": []
    },
    {
      "cell_type": "code",
      "metadata": {
        "id": "F9neBmODSM8a",
        "colab": {
          "base_uri": "https://localhost:8080/"
        },
        "outputId": "bfd5c64f-c0f7-4b11-a703-4b458a2c0b1e"
      },
      "source": [
        "print(full_data.shape)\n",
        "\n",
        "# first few rows\n",
        "#full_data.head(20)  # 12 APi data , 25 * 17200 , 430000"
      ],
      "execution_count": 7,
      "outputs": [
        {
          "output_type": "stream",
          "text": [
            "(247233, 22)\n"
          ],
          "name": "stdout"
        }
      ]
    },
    {
      "cell_type": "code",
      "metadata": {
        "id": "Izntet22SM9F",
        "colab": {
          "base_uri": "https://localhost:8080/"
        },
        "outputId": "fd25a701-44cf-4870-819f-499e2125b05e"
      },
      "source": [
        "print(full_data)"
      ],
      "execution_count": 8,
      "outputs": [
        {
          "output_type": "stream",
          "text": [
            "       Patient Number State Patient Number  ... Num Cases  Entry_ID\n",
            "0                 1.0             KL-TS-P1  ...       1.0       NaN\n",
            "1                 2.0             KL-AL-P1  ...       1.0       NaN\n",
            "2                 3.0             KL-KS-P1  ...       1.0       NaN\n",
            "3                 4.0                DL-P1  ...       1.0       NaN\n",
            "4                 5.0                TS-P1  ...       1.0       NaN\n",
            "...               ...                  ...  ...       ...       ...\n",
            "22329             NaN                  NaN  ...     151.0  219096.0\n",
            "22330             NaN                  NaN  ...     114.0  219097.0\n",
            "22331             NaN                  NaN  ...     122.0  219098.0\n",
            "22332             NaN                  NaN  ...     163.0  219099.0\n",
            "22333             NaN                  NaN  ...    -654.0  219100.0\n",
            "\n",
            "[247233 rows x 22 columns]\n"
          ],
          "name": "stdout"
        }
      ]
    },
    {
      "cell_type": "markdown",
      "metadata": {
        "id": "qYy7aA2eSM97"
      },
      "source": [
        "## Daily cases"
      ]
    },
    {
      "cell_type": "code",
      "metadata": {
        "id": "B6oZEGmxSM-C",
        "colab": {
          "base_uri": "https://localhost:8080/",
          "height": 590
        },
        "outputId": "59653f76-1483-40fd-aedb-79ccf18d0af6"
      },
      "source": [
        "# read data\n",
        "# jupyter anaconda\n",
        "day_wise = pd.read_csv('https://api.covid19india.org/csv/latest/case_time_series.csv')\n",
        " #C:\\Users\\Amit Dhomne\\Music\\Data science with Python 1\n",
        "\n",
        "# save as a .csv file\n",
        "day_wise.to_csv('nation_level_daily.csv', index=False)\n",
        "\n",
        "# first few rows\n",
        "day_wise.head(100)"
      ],
      "execution_count": 10,
      "outputs": [
        {
          "output_type": "execute_result",
          "data": {
            "text/html": [
              "<div>\n",
              "<style scoped>\n",
              "    .dataframe tbody tr th:only-of-type {\n",
              "        vertical-align: middle;\n",
              "    }\n",
              "\n",
              "    .dataframe tbody tr th {\n",
              "        vertical-align: top;\n",
              "    }\n",
              "\n",
              "    .dataframe thead th {\n",
              "        text-align: right;\n",
              "    }\n",
              "</style>\n",
              "<table border=\"1\" class=\"dataframe\">\n",
              "  <thead>\n",
              "    <tr style=\"text-align: right;\">\n",
              "      <th></th>\n",
              "      <th>Date</th>\n",
              "      <th>Date_YMD</th>\n",
              "      <th>Daily Confirmed</th>\n",
              "      <th>Total Confirmed</th>\n",
              "      <th>Daily Recovered</th>\n",
              "      <th>Total Recovered</th>\n",
              "      <th>Daily Deceased</th>\n",
              "      <th>Total Deceased</th>\n",
              "    </tr>\n",
              "  </thead>\n",
              "  <tbody>\n",
              "    <tr>\n",
              "      <th>0</th>\n",
              "      <td>30 January 2020</td>\n",
              "      <td>2020-01-30</td>\n",
              "      <td>1</td>\n",
              "      <td>1</td>\n",
              "      <td>0</td>\n",
              "      <td>0</td>\n",
              "      <td>0</td>\n",
              "      <td>0</td>\n",
              "    </tr>\n",
              "    <tr>\n",
              "      <th>1</th>\n",
              "      <td>31 January 2020</td>\n",
              "      <td>2020-01-31</td>\n",
              "      <td>0</td>\n",
              "      <td>1</td>\n",
              "      <td>0</td>\n",
              "      <td>0</td>\n",
              "      <td>0</td>\n",
              "      <td>0</td>\n",
              "    </tr>\n",
              "    <tr>\n",
              "      <th>2</th>\n",
              "      <td>1 February 2020</td>\n",
              "      <td>2020-02-01</td>\n",
              "      <td>0</td>\n",
              "      <td>1</td>\n",
              "      <td>0</td>\n",
              "      <td>0</td>\n",
              "      <td>0</td>\n",
              "      <td>0</td>\n",
              "    </tr>\n",
              "    <tr>\n",
              "      <th>3</th>\n",
              "      <td>2 February 2020</td>\n",
              "      <td>2020-02-02</td>\n",
              "      <td>1</td>\n",
              "      <td>2</td>\n",
              "      <td>0</td>\n",
              "      <td>0</td>\n",
              "      <td>0</td>\n",
              "      <td>0</td>\n",
              "    </tr>\n",
              "    <tr>\n",
              "      <th>4</th>\n",
              "      <td>3 February 2020</td>\n",
              "      <td>2020-02-03</td>\n",
              "      <td>1</td>\n",
              "      <td>3</td>\n",
              "      <td>0</td>\n",
              "      <td>0</td>\n",
              "      <td>0</td>\n",
              "      <td>0</td>\n",
              "    </tr>\n",
              "    <tr>\n",
              "      <th>...</th>\n",
              "      <td>...</td>\n",
              "      <td>...</td>\n",
              "      <td>...</td>\n",
              "      <td>...</td>\n",
              "      <td>...</td>\n",
              "      <td>...</td>\n",
              "      <td>...</td>\n",
              "      <td>...</td>\n",
              "    </tr>\n",
              "    <tr>\n",
              "      <th>95</th>\n",
              "      <td>4 May 2020</td>\n",
              "      <td>2020-05-04</td>\n",
              "      <td>3656</td>\n",
              "      <td>46434</td>\n",
              "      <td>1082</td>\n",
              "      <td>12845</td>\n",
              "      <td>103</td>\n",
              "      <td>1566</td>\n",
              "    </tr>\n",
              "    <tr>\n",
              "      <th>96</th>\n",
              "      <td>5 May 2020</td>\n",
              "      <td>2020-05-05</td>\n",
              "      <td>2971</td>\n",
              "      <td>49405</td>\n",
              "      <td>1295</td>\n",
              "      <td>14140</td>\n",
              "      <td>128</td>\n",
              "      <td>1694</td>\n",
              "    </tr>\n",
              "    <tr>\n",
              "      <th>97</th>\n",
              "      <td>6 May 2020</td>\n",
              "      <td>2020-05-06</td>\n",
              "      <td>3602</td>\n",
              "      <td>53007</td>\n",
              "      <td>1161</td>\n",
              "      <td>15301</td>\n",
              "      <td>91</td>\n",
              "      <td>1785</td>\n",
              "    </tr>\n",
              "    <tr>\n",
              "      <th>98</th>\n",
              "      <td>7 May 2020</td>\n",
              "      <td>2020-05-07</td>\n",
              "      <td>3344</td>\n",
              "      <td>56351</td>\n",
              "      <td>1475</td>\n",
              "      <td>16776</td>\n",
              "      <td>104</td>\n",
              "      <td>1889</td>\n",
              "    </tr>\n",
              "    <tr>\n",
              "      <th>99</th>\n",
              "      <td>8 May 2020</td>\n",
              "      <td>2020-05-08</td>\n",
              "      <td>3339</td>\n",
              "      <td>59690</td>\n",
              "      <td>1111</td>\n",
              "      <td>17887</td>\n",
              "      <td>97</td>\n",
              "      <td>1986</td>\n",
              "    </tr>\n",
              "  </tbody>\n",
              "</table>\n",
              "<p>100 rows × 8 columns</p>\n",
              "</div>"
            ],
            "text/plain": [
              "               Date    Date_YMD  ...  Daily Deceased  Total Deceased\n",
              "0   30 January 2020  2020-01-30  ...               0               0\n",
              "1   31 January 2020  2020-01-31  ...               0               0\n",
              "2   1 February 2020  2020-02-01  ...               0               0\n",
              "3   2 February 2020  2020-02-02  ...               0               0\n",
              "4   3 February 2020  2020-02-03  ...               0               0\n",
              "..              ...         ...  ...             ...             ...\n",
              "95       4 May 2020  2020-05-04  ...             103            1566\n",
              "96       5 May 2020  2020-05-05  ...             128            1694\n",
              "97       6 May 2020  2020-05-06  ...              91            1785\n",
              "98       7 May 2020  2020-05-07  ...             104            1889\n",
              "99       8 May 2020  2020-05-08  ...              97            1986\n",
              "\n",
              "[100 rows x 8 columns]"
            ]
          },
          "metadata": {
            "tags": []
          },
          "execution_count": 10
        }
      ]
    },
    {
      "cell_type": "markdown",
      "metadata": {
        "id": "WX_aaMCiSM-0"
      },
      "source": [
        "## Latest - State wise "
      ]
    },
    {
      "cell_type": "code",
      "metadata": {
        "id": "ezh02840SM-_",
        "colab": {
          "base_uri": "https://localhost:8080/",
          "height": 674
        },
        "outputId": "91868581-a0de-4244-aa5d-795806120336"
      },
      "source": [
        "## https://api.covid19india.org/csv/latest/state_wise.csv\n",
        "    \n",
        "# read data\n",
        "latest = pd.read_csv('https://api.covid19india.org/csv/latest/state_wise.csv')\n",
        "\n",
        "# save as a .csv file`\n",
        "latest.to_csv('state_level_latest.csv', index=False)\n",
        "\n",
        "# first few rows\n",
        "latest.head(9)"
      ],
      "execution_count": null,
      "outputs": [
        {
          "output_type": "execute_result",
          "data": {
            "text/html": [
              "<div>\n",
              "<style scoped>\n",
              "    .dataframe tbody tr th:only-of-type {\n",
              "        vertical-align: middle;\n",
              "    }\n",
              "\n",
              "    .dataframe tbody tr th {\n",
              "        vertical-align: top;\n",
              "    }\n",
              "\n",
              "    .dataframe thead th {\n",
              "        text-align: right;\n",
              "    }\n",
              "</style>\n",
              "<table border=\"1\" class=\"dataframe\">\n",
              "  <thead>\n",
              "    <tr style=\"text-align: right;\">\n",
              "      <th></th>\n",
              "      <th>State</th>\n",
              "      <th>Confirmed</th>\n",
              "      <th>Recovered</th>\n",
              "      <th>Deaths</th>\n",
              "      <th>Active</th>\n",
              "      <th>Last_Updated_Time</th>\n",
              "      <th>Migrated_Other</th>\n",
              "      <th>State_code</th>\n",
              "      <th>Delta_Confirmed</th>\n",
              "      <th>Delta_Recovered</th>\n",
              "      <th>Delta_Deaths</th>\n",
              "      <th>State_Notes</th>\n",
              "    </tr>\n",
              "  </thead>\n",
              "  <tbody>\n",
              "    <tr>\n",
              "      <th>0</th>\n",
              "      <td>Total</td>\n",
              "      <td>11556263</td>\n",
              "      <td>11105936</td>\n",
              "      <td>159599</td>\n",
              "      <td>286025</td>\n",
              "      <td>20/3/2021 17:24:45</td>\n",
              "      <td>4703</td>\n",
              "      <td>TT</td>\n",
              "      <td>1368</td>\n",
              "      <td>787</td>\n",
              "      <td>5</td>\n",
              "      <td>NaN</td>\n",
              "    </tr>\n",
              "    <tr>\n",
              "      <th>1</th>\n",
              "      <td>Maharashtra</td>\n",
              "      <td>2422021</td>\n",
              "      <td>2189965</td>\n",
              "      <td>53208</td>\n",
              "      <td>177560</td>\n",
              "      <td>19/03/2021 20:39:48</td>\n",
              "      <td>1288</td>\n",
              "      <td>MH</td>\n",
              "      <td>0</td>\n",
              "      <td>0</td>\n",
              "      <td>0</td>\n",
              "      <td>[Dec 16]:10,218 duplicate cases &amp; other state ...</td>\n",
              "    </tr>\n",
              "    <tr>\n",
              "      <th>2</th>\n",
              "      <td>Kerala</td>\n",
              "      <td>1100276</td>\n",
              "      <td>1070343</td>\n",
              "      <td>4468</td>\n",
              "      <td>25156</td>\n",
              "      <td>19/03/2021 20:23:49</td>\n",
              "      <td>309</td>\n",
              "      <td>KL</td>\n",
              "      <td>0</td>\n",
              "      <td>0</td>\n",
              "      <td>0</td>\n",
              "      <td>Mahe native who expired in Kannur included in ...</td>\n",
              "    </tr>\n",
              "    <tr>\n",
              "      <th>3</th>\n",
              "      <td>Karnataka</td>\n",
              "      <td>966689</td>\n",
              "      <td>942178</td>\n",
              "      <td>12425</td>\n",
              "      <td>12067</td>\n",
              "      <td>19/03/2021 19:56:59</td>\n",
              "      <td>19</td>\n",
              "      <td>KA</td>\n",
              "      <td>0</td>\n",
              "      <td>0</td>\n",
              "      <td>0</td>\n",
              "      <td>NaN</td>\n",
              "    </tr>\n",
              "    <tr>\n",
              "      <th>4</th>\n",
              "      <td>Andhra Pradesh</td>\n",
              "      <td>892986</td>\n",
              "      <td>883890</td>\n",
              "      <td>7187</td>\n",
              "      <td>1909</td>\n",
              "      <td>19/03/2021 17:35:43</td>\n",
              "      <td>0</td>\n",
              "      <td>AP</td>\n",
              "      <td>0</td>\n",
              "      <td>0</td>\n",
              "      <td>0</td>\n",
              "      <td>NaN</td>\n",
              "    </tr>\n",
              "    <tr>\n",
              "      <th>5</th>\n",
              "      <td>Tamil Nadu</td>\n",
              "      <td>864450</td>\n",
              "      <td>845178</td>\n",
              "      <td>12582</td>\n",
              "      <td>6690</td>\n",
              "      <td>19/03/2021 19:57:07</td>\n",
              "      <td>0</td>\n",
              "      <td>TN</td>\n",
              "      <td>0</td>\n",
              "      <td>0</td>\n",
              "      <td>0</td>\n",
              "      <td>[July 22]: 444 backdated deceased entries adde...</td>\n",
              "    </tr>\n",
              "    <tr>\n",
              "      <th>6</th>\n",
              "      <td>Delhi</td>\n",
              "      <td>647161</td>\n",
              "      <td>632797</td>\n",
              "      <td>10955</td>\n",
              "      <td>3409</td>\n",
              "      <td>20/03/2021 16:57:47</td>\n",
              "      <td>0</td>\n",
              "      <td>DL</td>\n",
              "      <td>813</td>\n",
              "      <td>567</td>\n",
              "      <td>2</td>\n",
              "      <td>[July 14]: Value for the total tests conducted...</td>\n",
              "    </tr>\n",
              "    <tr>\n",
              "      <th>7</th>\n",
              "      <td>Uttar Pradesh</td>\n",
              "      <td>606609</td>\n",
              "      <td>595382</td>\n",
              "      <td>8757</td>\n",
              "      <td>2470</td>\n",
              "      <td>19/03/2021 22:02:59</td>\n",
              "      <td>0</td>\n",
              "      <td>UP</td>\n",
              "      <td>0</td>\n",
              "      <td>0</td>\n",
              "      <td>0</td>\n",
              "      <td>[Jan 1]:As no bulletin was provided for 31'st ...</td>\n",
              "    </tr>\n",
              "    <tr>\n",
              "      <th>8</th>\n",
              "      <td>West Bengal</td>\n",
              "      <td>579826</td>\n",
              "      <td>566228</td>\n",
              "      <td>10301</td>\n",
              "      <td>3297</td>\n",
              "      <td>19/03/2021 20:39:51</td>\n",
              "      <td>0</td>\n",
              "      <td>WB</td>\n",
              "      <td>0</td>\n",
              "      <td>0</td>\n",
              "      <td>0</td>\n",
              "      <td>NaN</td>\n",
              "    </tr>\n",
              "  </tbody>\n",
              "</table>\n",
              "</div>"
            ],
            "text/plain": [
              "            State  ...                                        State_Notes\n",
              "0           Total  ...                                                NaN\n",
              "1     Maharashtra  ...  [Dec 16]:10,218 duplicate cases & other state ...\n",
              "2          Kerala  ...  Mahe native who expired in Kannur included in ...\n",
              "3       Karnataka  ...                                                NaN\n",
              "4  Andhra Pradesh  ...                                                NaN\n",
              "5      Tamil Nadu  ...  [July 22]: 444 backdated deceased entries adde...\n",
              "6           Delhi  ...  [July 14]: Value for the total tests conducted...\n",
              "7   Uttar Pradesh  ...  [Jan 1]:As no bulletin was provided for 31'st ...\n",
              "8     West Bengal  ...                                                NaN\n",
              "\n",
              "[9 rows x 12 columns]"
            ]
          },
          "metadata": {
            "tags": []
          },
          "execution_count": 10
        }
      ]
    },
    {
      "cell_type": "code",
      "metadata": {
        "id": "xzB16Zg0SM_m"
      },
      "source": [
        ""
      ],
      "execution_count": null,
      "outputs": []
    },
    {
      "cell_type": "markdown",
      "metadata": {
        "id": "u09n2EKwSNAG"
      },
      "source": [
        "## State wise daily"
      ]
    },
    {
      "cell_type": "code",
      "metadata": {
        "id": "LFUzQT95SNAO",
        "colab": {
          "base_uri": "https://localhost:8080/",
          "height": 206
        },
        "outputId": "92a7d393-77c3-4562-d76a-f7c18540c538"
      },
      "source": [
        "# read data\n",
        "state_wise_daily = pd.read_csv('https://api.covid19india.org/csv/latest/state_wise_daily.csv')\n",
        "\n",
        "# melt dataframe\n",
        "state_wise_daily = state_wise_daily.melt(id_vars=['Date', 'Status'], \n",
        "                                         value_vars=state_wise_daily.columns[2:], \n",
        "                                         var_name='State', value_name='Count')\n",
        "\n",
        "# pivot table\n",
        "state_wise_daily = state_wise_daily.pivot_table(index=['Date', 'State'], \n",
        "                                                columns=['Status'], \n",
        "                                                values='Count').reset_index()\n",
        "\n",
        "# map state names to state codes\n",
        "state_codes = {code:state for code, state in zip(latest['State_code'], latest['State'])}\n",
        "state_codes['DD'] = 'Daman and Diu'\n",
        "state_wise_daily['State_Name'] = state_wise_daily['State'].map(state_codes)\n",
        "\n",
        "# save as a .csv file\n",
        "state_wise_daily.to_csv('state_level_daily.csv')\n",
        "\n",
        "# first few rows\n",
        "state_wise_daily.head()"
      ],
      "execution_count": null,
      "outputs": [
        {
          "output_type": "execute_result",
          "data": {
            "text/html": [
              "<div>\n",
              "<style scoped>\n",
              "    .dataframe tbody tr th:only-of-type {\n",
              "        vertical-align: middle;\n",
              "    }\n",
              "\n",
              "    .dataframe tbody tr th {\n",
              "        vertical-align: top;\n",
              "    }\n",
              "\n",
              "    .dataframe thead th {\n",
              "        text-align: right;\n",
              "    }\n",
              "</style>\n",
              "<table border=\"1\" class=\"dataframe\">\n",
              "  <thead>\n",
              "    <tr style=\"text-align: right;\">\n",
              "      <th>Status</th>\n",
              "      <th>Date</th>\n",
              "      <th>State</th>\n",
              "      <th>Confirmed</th>\n",
              "      <th>Deceased</th>\n",
              "      <th>Recovered</th>\n",
              "      <th>State_Name</th>\n",
              "    </tr>\n",
              "  </thead>\n",
              "  <tbody>\n",
              "    <tr>\n",
              "      <th>0</th>\n",
              "      <td>01-Apr-20</td>\n",
              "      <td>AN</td>\n",
              "      <td>0</td>\n",
              "      <td>0</td>\n",
              "      <td>0</td>\n",
              "      <td>Andaman and Nicobar Islands</td>\n",
              "    </tr>\n",
              "    <tr>\n",
              "      <th>1</th>\n",
              "      <td>01-Apr-20</td>\n",
              "      <td>AP</td>\n",
              "      <td>67</td>\n",
              "      <td>0</td>\n",
              "      <td>1</td>\n",
              "      <td>Andhra Pradesh</td>\n",
              "    </tr>\n",
              "    <tr>\n",
              "      <th>2</th>\n",
              "      <td>01-Apr-20</td>\n",
              "      <td>AR</td>\n",
              "      <td>0</td>\n",
              "      <td>0</td>\n",
              "      <td>0</td>\n",
              "      <td>Arunachal Pradesh</td>\n",
              "    </tr>\n",
              "    <tr>\n",
              "      <th>3</th>\n",
              "      <td>01-Apr-20</td>\n",
              "      <td>AS</td>\n",
              "      <td>15</td>\n",
              "      <td>0</td>\n",
              "      <td>0</td>\n",
              "      <td>Assam</td>\n",
              "    </tr>\n",
              "    <tr>\n",
              "      <th>4</th>\n",
              "      <td>01-Apr-20</td>\n",
              "      <td>BR</td>\n",
              "      <td>3</td>\n",
              "      <td>0</td>\n",
              "      <td>0</td>\n",
              "      <td>Bihar</td>\n",
              "    </tr>\n",
              "  </tbody>\n",
              "</table>\n",
              "</div>"
            ],
            "text/plain": [
              "Status       Date State  ...  Recovered                   State_Name\n",
              "0       01-Apr-20    AN  ...          0  Andaman and Nicobar Islands\n",
              "1       01-Apr-20    AP  ...          1               Andhra Pradesh\n",
              "2       01-Apr-20    AR  ...          0            Arunachal Pradesh\n",
              "3       01-Apr-20    AS  ...          0                        Assam\n",
              "4       01-Apr-20    BR  ...          0                        Bihar\n",
              "\n",
              "[5 rows x 6 columns]"
            ]
          },
          "metadata": {
            "tags": []
          },
          "execution_count": 9
        }
      ]
    },
    {
      "cell_type": "code",
      "metadata": {
        "id": "1UQgv5GOSNA0"
      },
      "source": [
        ""
      ],
      "execution_count": null,
      "outputs": []
    },
    {
      "cell_type": "markdown",
      "metadata": {
        "id": "lb1sbK9OSNBW"
      },
      "source": [
        "## District wise"
      ]
    },
    {
      "cell_type": "code",
      "metadata": {
        "id": "PvTzyxAcSNBh",
        "colab": {
          "base_uri": "https://localhost:8080/",
          "height": 417
        },
        "outputId": "dbdcedd8-1898-4e63-fe99-f950ee48d4ba"
      },
      "source": [
        "# read data\n",
        "district_wise = pd.read_csv('https://api.covid19india.org/csv/latest/district_wise.csv')\n",
        "\n",
        "# save as .csv file\n",
        "district_wise.to_csv('district_level_latest.csv', index=False)\n",
        "\n",
        "# first few rows\n",
        "district_wise.head()"
      ],
      "execution_count": null,
      "outputs": [
        {
          "output_type": "execute_result",
          "data": {
            "text/html": [
              "<div>\n",
              "<style scoped>\n",
              "    .dataframe tbody tr th:only-of-type {\n",
              "        vertical-align: middle;\n",
              "    }\n",
              "\n",
              "    .dataframe tbody tr th {\n",
              "        vertical-align: top;\n",
              "    }\n",
              "\n",
              "    .dataframe thead th {\n",
              "        text-align: right;\n",
              "    }\n",
              "</style>\n",
              "<table border=\"1\" class=\"dataframe\">\n",
              "  <thead>\n",
              "    <tr style=\"text-align: right;\">\n",
              "      <th></th>\n",
              "      <th>SlNo</th>\n",
              "      <th>State_Code</th>\n",
              "      <th>State</th>\n",
              "      <th>District_Key</th>\n",
              "      <th>District</th>\n",
              "      <th>Confirmed</th>\n",
              "      <th>Active</th>\n",
              "      <th>Recovered</th>\n",
              "      <th>Deceased</th>\n",
              "      <th>Migrated_Other</th>\n",
              "      <th>Delta_Confirmed</th>\n",
              "      <th>Delta_Active</th>\n",
              "      <th>Delta_Recovered</th>\n",
              "      <th>Delta_Deceased</th>\n",
              "      <th>District_Notes</th>\n",
              "      <th>Last_Updated</th>\n",
              "    </tr>\n",
              "  </thead>\n",
              "  <tbody>\n",
              "    <tr>\n",
              "      <th>0</th>\n",
              "      <td>0</td>\n",
              "      <td>UN</td>\n",
              "      <td>State Unassigned</td>\n",
              "      <td>UN_Unassigned</td>\n",
              "      <td>Unassigned</td>\n",
              "      <td>0</td>\n",
              "      <td>0</td>\n",
              "      <td>0</td>\n",
              "      <td>0</td>\n",
              "      <td>0</td>\n",
              "      <td>0</td>\n",
              "      <td>0</td>\n",
              "      <td>0</td>\n",
              "      <td>0</td>\n",
              "      <td>NaN</td>\n",
              "      <td>NaN</td>\n",
              "    </tr>\n",
              "    <tr>\n",
              "      <th>1</th>\n",
              "      <td>1</td>\n",
              "      <td>AN</td>\n",
              "      <td>Andaman and Nicobar Islands</td>\n",
              "      <td>AN_Nicobars</td>\n",
              "      <td>Nicobars</td>\n",
              "      <td>0</td>\n",
              "      <td>0</td>\n",
              "      <td>0</td>\n",
              "      <td>0</td>\n",
              "      <td>0</td>\n",
              "      <td>0</td>\n",
              "      <td>0</td>\n",
              "      <td>0</td>\n",
              "      <td>0</td>\n",
              "      <td>District-wise numbers are out-dated as cumulat...</td>\n",
              "      <td>NaN</td>\n",
              "    </tr>\n",
              "    <tr>\n",
              "      <th>2</th>\n",
              "      <td>2</td>\n",
              "      <td>AN</td>\n",
              "      <td>Andaman and Nicobar Islands</td>\n",
              "      <td>AN_North and Middle Andaman</td>\n",
              "      <td>North and Middle Andaman</td>\n",
              "      <td>1</td>\n",
              "      <td>0</td>\n",
              "      <td>1</td>\n",
              "      <td>0</td>\n",
              "      <td>0</td>\n",
              "      <td>0</td>\n",
              "      <td>0</td>\n",
              "      <td>0</td>\n",
              "      <td>0</td>\n",
              "      <td>District-wise numbers are out-dated as cumulat...</td>\n",
              "      <td>NaN</td>\n",
              "    </tr>\n",
              "    <tr>\n",
              "      <th>3</th>\n",
              "      <td>3</td>\n",
              "      <td>AN</td>\n",
              "      <td>Andaman and Nicobar Islands</td>\n",
              "      <td>AN_South Andaman</td>\n",
              "      <td>South Andaman</td>\n",
              "      <td>51</td>\n",
              "      <td>19</td>\n",
              "      <td>32</td>\n",
              "      <td>0</td>\n",
              "      <td>0</td>\n",
              "      <td>0</td>\n",
              "      <td>0</td>\n",
              "      <td>0</td>\n",
              "      <td>0</td>\n",
              "      <td>District-wise numbers are out-dated as cumulat...</td>\n",
              "      <td>NaN</td>\n",
              "    </tr>\n",
              "    <tr>\n",
              "      <th>4</th>\n",
              "      <td>0</td>\n",
              "      <td>AP</td>\n",
              "      <td>Andhra Pradesh</td>\n",
              "      <td>AP_Foreign Evacuees</td>\n",
              "      <td>Foreign Evacuees</td>\n",
              "      <td>434</td>\n",
              "      <td>0</td>\n",
              "      <td>434</td>\n",
              "      <td>0</td>\n",
              "      <td>0</td>\n",
              "      <td>0</td>\n",
              "      <td>0</td>\n",
              "      <td>0</td>\n",
              "      <td>0</td>\n",
              "      <td>NaN</td>\n",
              "      <td>NaN</td>\n",
              "    </tr>\n",
              "  </tbody>\n",
              "</table>\n",
              "</div>"
            ],
            "text/plain": [
              "   SlNo  ... Last_Updated\n",
              "0     0  ...          NaN\n",
              "1     1  ...          NaN\n",
              "2     2  ...          NaN\n",
              "3     3  ...          NaN\n",
              "4     0  ...          NaN\n",
              "\n",
              "[5 rows x 16 columns]"
            ]
          },
          "metadata": {
            "tags": []
          },
          "execution_count": 11
        }
      ]
    },
    {
      "cell_type": "markdown",
      "metadata": {
        "id": "-TqGrElrSNCk"
      },
      "source": [
        "## Tests"
      ]
    },
    {
      "cell_type": "code",
      "metadata": {
        "id": "eXmZcYnCSNCq",
        "colab": {
          "base_uri": "https://localhost:8080/",
          "height": 383
        },
        "outputId": "ec6b754b-27e7-4c2b-a627-c1223d850d3d"
      },
      "source": [
        "# read data\n",
        "tests_day_wise = pd.read_csv('https://api.covid19india.org/csv/latest/tested_numbers_icmr_data.csv')\n",
        "\n",
        "# save as .csv file\n",
        "tests_day_wise.to_csv('tests_day_wise.csv', index=False)\n",
        "\n",
        "# first few rows\n",
        "tests_day_wise.head()"
      ],
      "execution_count": null,
      "outputs": [
        {
          "output_type": "execute_result",
          "data": {
            "text/html": [
              "<div>\n",
              "<style scoped>\n",
              "    .dataframe tbody tr th:only-of-type {\n",
              "        vertical-align: middle;\n",
              "    }\n",
              "\n",
              "    .dataframe tbody tr th {\n",
              "        vertical-align: top;\n",
              "    }\n",
              "\n",
              "    .dataframe thead th {\n",
              "        text-align: right;\n",
              "    }\n",
              "</style>\n",
              "<table border=\"1\" class=\"dataframe\">\n",
              "  <thead>\n",
              "    <tr style=\"text-align: right;\">\n",
              "      <th></th>\n",
              "      <th>Update Time Stamp</th>\n",
              "      <th>Tested As Of</th>\n",
              "      <th>Daily RTPCR tests</th>\n",
              "      <th>Total RTPCR tests</th>\n",
              "      <th>Total Samples Tested</th>\n",
              "      <th>Total Individuals Tested</th>\n",
              "      <th>Total Positive Cases</th>\n",
              "      <th>Tests conducted by Private Labs</th>\n",
              "      <th>Sample Reported today</th>\n",
              "      <th>Positive cases from samples reported</th>\n",
              "      <th>Source</th>\n",
              "      <th>Source 1</th>\n",
              "      <th>Source 3</th>\n",
              "      <th>Test positivity rate</th>\n",
              "      <th>Individuals Tested Per Confirmed Case</th>\n",
              "      <th>Tests Per Confirmed Case</th>\n",
              "      <th>Tests per million</th>\n",
              "    </tr>\n",
              "  </thead>\n",
              "  <tbody>\n",
              "    <tr>\n",
              "      <th>0</th>\n",
              "      <td>13/03/2020 00:00:00</td>\n",
              "      <td>13/03/2020</td>\n",
              "      <td>NaN</td>\n",
              "      <td>NaN</td>\n",
              "      <td>6500.0</td>\n",
              "      <td>5900.0</td>\n",
              "      <td>78</td>\n",
              "      <td>NaN</td>\n",
              "      <td>NaN</td>\n",
              "      <td>NaN</td>\n",
              "      <td>Press_Release_ICMR_13March2020.pdf</td>\n",
              "      <td>NaN</td>\n",
              "      <td>NaN</td>\n",
              "      <td>1.20%</td>\n",
              "      <td>75.64</td>\n",
              "      <td>83.33</td>\n",
              "      <td>5.0</td>\n",
              "    </tr>\n",
              "    <tr>\n",
              "      <th>1</th>\n",
              "      <td>18/03/2020 18:00:00</td>\n",
              "      <td>18/03/2020</td>\n",
              "      <td>NaN</td>\n",
              "      <td>NaN</td>\n",
              "      <td>13125.0</td>\n",
              "      <td>12235.0</td>\n",
              "      <td>150</td>\n",
              "      <td>NaN</td>\n",
              "      <td>NaN</td>\n",
              "      <td>NaN</td>\n",
              "      <td>ICMR_website_update_18March_6PM_IST.pdf</td>\n",
              "      <td>NaN</td>\n",
              "      <td>NaN</td>\n",
              "      <td>1.14%</td>\n",
              "      <td>81.57</td>\n",
              "      <td>87.50</td>\n",
              "      <td>10.0</td>\n",
              "    </tr>\n",
              "    <tr>\n",
              "      <th>2</th>\n",
              "      <td>19/03/2020 10:00:00</td>\n",
              "      <td>19/03/2020</td>\n",
              "      <td>NaN</td>\n",
              "      <td>NaN</td>\n",
              "      <td>13316.0</td>\n",
              "      <td>12426.0</td>\n",
              "      <td>168</td>\n",
              "      <td>NaN</td>\n",
              "      <td>NaN</td>\n",
              "      <td>NaN</td>\n",
              "      <td>ICMR_website_update_19March_10AM_IST_V2.pdf</td>\n",
              "      <td>NaN</td>\n",
              "      <td>NaN</td>\n",
              "      <td>1.26%</td>\n",
              "      <td>73.96</td>\n",
              "      <td>79.26</td>\n",
              "      <td>10.0</td>\n",
              "    </tr>\n",
              "    <tr>\n",
              "      <th>3</th>\n",
              "      <td>19/03/2020 18:00:00</td>\n",
              "      <td>19/03/2020</td>\n",
              "      <td>NaN</td>\n",
              "      <td>NaN</td>\n",
              "      <td>14175.0</td>\n",
              "      <td>13285.0</td>\n",
              "      <td>182</td>\n",
              "      <td>NaN</td>\n",
              "      <td>NaN</td>\n",
              "      <td>NaN</td>\n",
              "      <td>ICMR_website_update_19March_6PM_IST.pdf</td>\n",
              "      <td>NaN</td>\n",
              "      <td>NaN</td>\n",
              "      <td>1.28%</td>\n",
              "      <td>72.99</td>\n",
              "      <td>77.88</td>\n",
              "      <td>11.0</td>\n",
              "    </tr>\n",
              "    <tr>\n",
              "      <th>4</th>\n",
              "      <td>20/03/2020 10:00:00</td>\n",
              "      <td>20/03/2020</td>\n",
              "      <td>NaN</td>\n",
              "      <td>NaN</td>\n",
              "      <td>14376.0</td>\n",
              "      <td>13486.0</td>\n",
              "      <td>206</td>\n",
              "      <td>NaN</td>\n",
              "      <td>NaN</td>\n",
              "      <td>NaN</td>\n",
              "      <td>ICMR_website_update_20March_10AM_IST.pdf</td>\n",
              "      <td>NaN</td>\n",
              "      <td>NaN</td>\n",
              "      <td>1.43%</td>\n",
              "      <td>65.47</td>\n",
              "      <td>69.79</td>\n",
              "      <td>11.0</td>\n",
              "    </tr>\n",
              "  </tbody>\n",
              "</table>\n",
              "</div>"
            ],
            "text/plain": [
              "     Update Time Stamp  ... Tests per million\n",
              "0  13/03/2020 00:00:00  ...               5.0\n",
              "1  18/03/2020 18:00:00  ...              10.0\n",
              "2  19/03/2020 10:00:00  ...              10.0\n",
              "3  19/03/2020 18:00:00  ...              11.0\n",
              "4  20/03/2020 10:00:00  ...              11.0\n",
              "\n",
              "[5 rows x 17 columns]"
            ]
          },
          "metadata": {
            "tags": []
          },
          "execution_count": 12
        }
      ]
    },
    {
      "cell_type": "markdown",
      "metadata": {
        "id": "dbr9Nyt2SNDp"
      },
      "source": [
        "## State wise tests no."
      ]
    },
    {
      "cell_type": "markdown",
      "metadata": {
        "id": "Dh1bmEKESNDv"
      },
      "source": [
        "# read data\n",
        "tests_state_wise = pd.read_csv('https://api.covid19india.org/csv/latest/statewise_tested_numbers_data.csv')\n",
        "\n",
        "# save as .csv file\n",
        "tests_state_wise.to_csv('tests_state_wise.csv', index=False)\n",
        "\n",
        "# first few rows\n",
        "tests_state_wise.head(10000)"
      ]
    },
    {
      "cell_type": "code",
      "metadata": {
        "id": "HrbVqwRASNEQ"
      },
      "source": [
        ""
      ],
      "execution_count": null,
      "outputs": []
    },
    {
      "cell_type": "code",
      "metadata": {
        "id": "2B-Y-JOCSNE6"
      },
      "source": [
        ""
      ],
      "execution_count": null,
      "outputs": []
    }
  ]
}